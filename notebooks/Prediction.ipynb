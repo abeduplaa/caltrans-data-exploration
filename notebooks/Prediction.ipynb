{
 "cells": [
  {
   "cell_type": "markdown",
   "metadata": {},
   "source": [
    "# Using OmniSci and LSTM to Predict Traffic Flow\n",
    "\n",
    "Here, we: \n",
    "1. Load data from OmniSci database straight to pandas\n",
    "2. Predict speed of cars using Keras\n",
    "3. Send data from pandas directly with pymapd to OmniSci"
   ]
  },
  {
   "cell_type": "markdown",
   "metadata": {
    "ExecuteTime": {
     "end_time": "2019-05-21T15:16:11.843700Z",
     "start_time": "2019-05-21T15:16:11.840163Z"
    }
   },
   "source": [
    "<img src=\"files/traffic_photo.jpeg\" width=\"400\">\n"
   ]
  },
  {
   "cell_type": "markdown",
   "metadata": {},
   "source": [
    "# Import Libraries"
   ]
  },
  {
   "cell_type": "code",
   "execution_count": 3,
   "metadata": {
    "ExecuteTime": {
     "end_time": "2019-12-17T17:20:41.607160Z",
     "start_time": "2019-12-17T17:20:40.389869Z"
    }
   },
   "outputs": [
    {
     "name": "stderr",
     "output_type": "stream",
     "text": [
      "/home/mapdadmin/miniconda3/lib/python3.6/site-packages/tensorflow/python/framework/dtypes.py:523: FutureWarning: Passing (type, 1) or '1type' as a synonym of type is deprecated; in a future version of numpy, it will be understood as (type, (1,)) / '(1,)type'.\n",
      "  _np_qint8 = np.dtype([(\"qint8\", np.int8, 1)])\n",
      "/home/mapdadmin/miniconda3/lib/python3.6/site-packages/tensorflow/python/framework/dtypes.py:524: FutureWarning: Passing (type, 1) or '1type' as a synonym of type is deprecated; in a future version of numpy, it will be understood as (type, (1,)) / '(1,)type'.\n",
      "  _np_quint8 = np.dtype([(\"quint8\", np.uint8, 1)])\n",
      "/home/mapdadmin/miniconda3/lib/python3.6/site-packages/tensorflow/python/framework/dtypes.py:525: FutureWarning: Passing (type, 1) or '1type' as a synonym of type is deprecated; in a future version of numpy, it will be understood as (type, (1,)) / '(1,)type'.\n",
      "  _np_qint16 = np.dtype([(\"qint16\", np.int16, 1)])\n",
      "/home/mapdadmin/miniconda3/lib/python3.6/site-packages/tensorflow/python/framework/dtypes.py:526: FutureWarning: Passing (type, 1) or '1type' as a synonym of type is deprecated; in a future version of numpy, it will be understood as (type, (1,)) / '(1,)type'.\n",
      "  _np_quint16 = np.dtype([(\"quint16\", np.uint16, 1)])\n",
      "/home/mapdadmin/miniconda3/lib/python3.6/site-packages/tensorflow/python/framework/dtypes.py:527: FutureWarning: Passing (type, 1) or '1type' as a synonym of type is deprecated; in a future version of numpy, it will be understood as (type, (1,)) / '(1,)type'.\n",
      "  _np_qint32 = np.dtype([(\"qint32\", np.int32, 1)])\n",
      "/home/mapdadmin/miniconda3/lib/python3.6/site-packages/tensorflow/python/framework/dtypes.py:532: FutureWarning: Passing (type, 1) or '1type' as a synonym of type is deprecated; in a future version of numpy, it will be understood as (type, (1,)) / '(1,)type'.\n",
      "  np_resource = np.dtype([(\"resource\", np.ubyte, 1)])\n"
     ]
    },
    {
     "ename": "ModuleNotFoundError",
     "evalue": "No module named 'statsmodels.api'",
     "output_type": "error",
     "traceback": [
      "\u001b[0;31m---------------------------------------------------------------------------\u001b[0m",
      "\u001b[0;31mModuleNotFoundError\u001b[0m                       Traceback (most recent call last)",
      "\u001b[0;32m<ipython-input-3-caea2a068800>\u001b[0m in \u001b[0;36m<module>\u001b[0;34m\u001b[0m\n\u001b[1;32m     13\u001b[0m \u001b[0;32mimport\u001b[0m \u001b[0msrc\u001b[0m\u001b[0;34m.\u001b[0m\u001b[0mdata_processing\u001b[0m\u001b[0;34m.\u001b[0m\u001b[0mprocess_utils\u001b[0m \u001b[0;32mas\u001b[0m \u001b[0mutils\u001b[0m\u001b[0;34m\u001b[0m\u001b[0m\n\u001b[1;32m     14\u001b[0m \u001b[0;32mfrom\u001b[0m \u001b[0msrc\u001b[0m\u001b[0;34m.\u001b[0m\u001b[0momnisci_connector\u001b[0m\u001b[0;34m.\u001b[0m\u001b[0momni_connect\u001b[0m \u001b[0;32mimport\u001b[0m \u001b[0mOmnisciConnect\u001b[0m\u001b[0;34m\u001b[0m\u001b[0m\n\u001b[0;32m---> 15\u001b[0;31m \u001b[0;32mfrom\u001b[0m \u001b[0msrc\u001b[0m \u001b[0;32mimport\u001b[0m \u001b[0mtrain_utils\u001b[0m\u001b[0;34m\u001b[0m\u001b[0m\n\u001b[0m\u001b[1;32m     16\u001b[0m \u001b[0;34m\u001b[0m\u001b[0m\n\u001b[1;32m     17\u001b[0m \u001b[0mconfig_path\u001b[0m \u001b[0;34m=\u001b[0m \u001b[0;34m'/home/mapdadmin/abraham/ini_files/config.ini'\u001b[0m\u001b[0;34m\u001b[0m\u001b[0m\n",
      "\u001b[0;32m~/abraham/caltrans-data-exploration/src/train_utils.py\u001b[0m in \u001b[0;36m<module>\u001b[0;34m\u001b[0m\n\u001b[1;32m      7\u001b[0m \u001b[0;32mimport\u001b[0m \u001b[0mnumpy\u001b[0m \u001b[0;32mas\u001b[0m \u001b[0mnp\u001b[0m\u001b[0;34m\u001b[0m\u001b[0m\n\u001b[1;32m      8\u001b[0m \u001b[0;32mimport\u001b[0m \u001b[0mmath\u001b[0m\u001b[0;34m\u001b[0m\u001b[0m\n\u001b[0;32m----> 9\u001b[0;31m \u001b[0;32mimport\u001b[0m \u001b[0mstatsmodels\u001b[0m\u001b[0;34m.\u001b[0m\u001b[0mapi\u001b[0m \u001b[0;32mas\u001b[0m \u001b[0msm\u001b[0m\u001b[0;34m\u001b[0m\u001b[0m\n\u001b[0m\u001b[1;32m     10\u001b[0m \u001b[0;32mfrom\u001b[0m \u001b[0msklearn\u001b[0m\u001b[0;34m.\u001b[0m\u001b[0mmetrics\u001b[0m \u001b[0;32mimport\u001b[0m \u001b[0mmean_squared_error\u001b[0m\u001b[0;34m\u001b[0m\u001b[0m\n\u001b[1;32m     11\u001b[0m \u001b[0;34m\u001b[0m\u001b[0m\n",
      "\u001b[0;31mModuleNotFoundError\u001b[0m: No module named 'statsmodels.api'"
     ]
    }
   ],
   "source": [
    "import time\n",
    "import sys\n",
    "from configparser import ConfigParser\n",
    "import numpy as np\n",
    "import pandas as pd\n",
    "import matplotlib.pyplot as plt\n",
    "import statsmodels.api as sm\n",
    "import math\n",
    "from sklearn.metrics import mean_squared_error\n",
    "\n",
    "sys.path.append('../')\n",
    "from src.data_processing.process_utils import apply_custom_transformations\n",
    "import src.data_processing.process_utils as utils\n",
    "from src.omnisci_connector.omni_connect import OmnisciConnect\n",
    "from src import train_utils\n",
    "\n",
    "config_path = '../config.ini'\n",
    "config = ConfigParser()\n",
    "config.read(config_path)"
   ]
  },
  {
   "cell_type": "markdown",
   "metadata": {
    "ExecuteTime": {
     "end_time": "2019-05-15T15:12:19.806296Z",
     "start_time": "2019-05-15T15:12:19.788471Z"
    }
   },
   "source": [
    "# Configure and connect to OmniSci"
   ]
  },
  {
   "cell_type": "code",
   "execution_count": null,
   "metadata": {
    "ExecuteTime": {
     "end_time": "2019-05-22T08:36:48.667672Z",
     "start_time": "2019-05-22T08:36:48.425691Z"
    }
   },
   "outputs": [],
   "source": [
    "import pymapd\n",
    "\n",
    "con = pymapd.connect(user=\"abraham\", \n",
    "                     password=\"abraham\", \n",
    "                     host=\"localhost\", \n",
    "                     dbname=\"abraham\", \n",
    "                     port=6273,\n",
    "                     protocol='http')\n",
    "\n",
    "print(con)"
   ]
  },
  {
   "cell_type": "markdown",
   "metadata": {},
   "source": [
    "# Traffic only Prediction"
   ]
  },
  {
   "cell_type": "markdown",
   "metadata": {},
   "source": [
    "## Bring in DataFrame from OmniSci using pymapd"
   ]
  },
  {
   "cell_type": "code",
   "execution_count": null,
   "metadata": {
    "ExecuteTime": {
     "end_time": "2019-05-22T08:36:50.400019Z",
     "start_time": "2019-05-22T08:36:50.395797Z"
    }
   },
   "outputs": [],
   "source": [
    "table_name = \"caltrans_historic_2015_2019\"\n",
    "\n",
    "cols = \"timestamp_, \\\n",
    "station, \\\n",
    "direction, \\\n",
    "freeway, \\\n",
    "occupancy, \\\n",
    "speed \"\n",
    "\n",
    "condition = \"WHERE timestamp_ >= '2019-02-01 00:00' \\\n",
    "AND timestamp_ <  '2019-03-01 00:00' \\\n",
    "AND freeway = 101\"\n",
    "\n",
    "query = \"select \" + cols + \" from \" + table_name + \" \" + condition\n",
    "\n",
    "print(query)"
   ]
  },
  {
   "cell_type": "code",
   "execution_count": null,
   "metadata": {
    "ExecuteTime": {
     "end_time": "2019-05-22T08:36:51.620500Z",
     "start_time": "2019-05-22T08:36:51.397960Z"
    }
   },
   "outputs": [],
   "source": [
    "df_Omnisci = con.select_ipc(query)\n",
    "df_Omnisci = df_Omnisci.sort_values('timestamp_')\n",
    "\n",
    "df_Omnisci.head()"
   ]
  },
  {
   "cell_type": "code",
   "execution_count": null,
   "metadata": {
    "ExecuteTime": {
     "end_time": "2019-05-22T08:36:54.530705Z",
     "start_time": "2019-05-22T08:36:54.528047Z"
    }
   },
   "outputs": [],
   "source": [
    "# Number of timesteps to look back\n",
    "n_lag = 12\n",
    "n_steps = 6"
   ]
  },
  {
   "cell_type": "markdown",
   "metadata": {},
   "source": [
    "### Prepare traffic data"
   ]
  },
  {
   "cell_type": "code",
   "execution_count": null,
   "metadata": {
    "ExecuteTime": {
     "end_time": "2019-05-22T08:37:01.512900Z",
     "start_time": "2019-05-22T08:36:57.048245Z"
    }
   },
   "outputs": [],
   "source": [
    "cols = ['station','timestamp_','occupancy','speed']\n",
    "\n",
    "df_tpredict = (df_Omnisci[cols].set_index(['station','timestamp_'])\n",
    "                      .sort_values(['station','timestamp_']))\n",
    "\n",
    "treframed, tkey, tscaled, tscaler1 = train_utils.format_model_data(df_tpredict, n_lag, n_steps)\n",
    "\n",
    "treframed = train_utils.remove_cols(treframed)\n",
    "\n",
    "treframed.head()"
   ]
  },
  {
   "cell_type": "markdown",
   "metadata": {},
   "source": [
    "## Predict traffic with speed, occupancy"
   ]
  },
  {
   "cell_type": "code",
   "execution_count": null,
   "metadata": {
    "ExecuteTime": {
     "end_time": "2019-05-22T08:55:51.568703Z",
     "start_time": "2019-05-22T08:55:51.565941Z"
    }
   },
   "outputs": [],
   "source": [
    "tmodel = '../models/traffic_190513_2300.h5'\n",
    "\n",
    "tinv_y, tinv_yhat, trmse = train_utils.predict_data(treframed, tmodel,tscaler1)\n",
    "\n"
   ]
  },
  {
   "cell_type": "code",
   "execution_count": null,
   "metadata": {
    "ExecuteTime": {
     "end_time": "2019-05-22T08:56:20.092881Z",
     "start_time": "2019-05-22T08:56:19.664355Z"
    }
   },
   "outputs": [],
   "source": [
    "from matplotlib.pyplot import figure\n",
    "\n",
    "figure(num=None, figsize=(20, 6), dpi=80, edgecolor='k')\n",
    "plt.title(\"Prediction using Traffic Data\")\n",
    "plt.plot(tinv_y[0:600])\n",
    "plt.plot(tinv_yhat[0:600])"
   ]
  },
  {
   "cell_type": "markdown",
   "metadata": {},
   "source": [
    "# Prepare Weather Data"
   ]
  },
  {
   "cell_type": "markdown",
   "metadata": {},
   "source": [
    "### Read in metadata for traffic and weather"
   ]
  },
  {
   "cell_type": "code",
   "execution_count": null,
   "metadata": {
    "ExecuteTime": {
     "end_time": "2019-05-22T08:39:43.996664Z",
     "start_time": "2019-05-22T08:39:43.779539Z"
    }
   },
   "outputs": [],
   "source": [
    "query_traffic_meta = \"select * from caltrans_traffic_d04_metatable_weatherID\"\n",
    "print(query_traffic_meta)\n",
    "df_traffic_metadata = con.select_ipc(query_traffic_meta)"
   ]
  },
  {
   "cell_type": "code",
   "execution_count": null,
   "metadata": {
    "ExecuteTime": {
     "end_time": "2019-05-22T08:39:52.137348Z",
     "start_time": "2019-05-22T08:39:52.133887Z"
    }
   },
   "outputs": [],
   "source": [
    "cols = \"timestamp_, \\\n",
    "hourlyprecipitation, \\\n",
    "hourlyvisibility, \\\n",
    "hourlywindspeed, \\\n",
    "weather_station_id\"\n",
    "\n",
    "query_weather = \"select \"+ cols + \" from ncdc_weather_clean_190511\"\n",
    "\n",
    "print(query_weather)"
   ]
  },
  {
   "cell_type": "code",
   "execution_count": null,
   "metadata": {
    "ExecuteTime": {
     "end_time": "2019-05-22T08:41:29.646159Z",
     "start_time": "2019-05-22T08:41:29.398419Z"
    }
   },
   "outputs": [],
   "source": [
    "df_weather = con.select_ipc(query_weather)\n",
    "\n",
    "df_weather = df_weather.sort_values(by=['timestamp_'])\n",
    "\n",
    "df_w_traffic = (df_Omnisci.set_index('timestamp_')\n",
    "              .join(df_traffic_metadata[['id','weather_station_id']].set_index('id'), on='station')\n",
    "              .sort_values(by=['timestamp_'])\n",
    "             )\n",
    "\n",
    "\n",
    "df_w_traffic.head()"
   ]
  },
  {
   "cell_type": "markdown",
   "metadata": {},
   "source": [
    "## Prepare traffic and weather data for model"
   ]
  },
  {
   "cell_type": "code",
   "execution_count": null,
   "metadata": {
    "ExecuteTime": {
     "end_time": "2019-05-22T08:43:24.900806Z",
     "start_time": "2019-05-22T08:43:24.868352Z"
    }
   },
   "outputs": [],
   "source": [
    "data_cols = ['station','timestamp_','occupancy','speed','hourlyprecipitation','hourlywindspeed']\n",
    "\n",
    "join_key = ['timestamp_']\n",
    "df_wpredict = pd.merge_asof(left=df_w_traffic,\n",
    "                      right=df_weather,\n",
    "                      on=join_key,\n",
    "                      by='weather_station_id',\n",
    "                          direction='nearest')\n",
    "\n",
    "df_wpredict = (df_wpredict[data_cols].sort_values(['station','timestamp_'])\n",
    "                      .set_index(['station','timestamp_']))\n"
   ]
  },
  {
   "cell_type": "code",
   "execution_count": null,
   "metadata": {
    "ExecuteTime": {
     "end_time": "2019-05-22T08:43:41.462927Z",
     "start_time": "2019-05-22T08:43:36.991905Z"
    }
   },
   "outputs": [],
   "source": [
    "wreframed, wkey, wscaled, wscaler1 = train_utils.format_model_data(df_wpredict, n_lag, n_steps)\n",
    "\n",
    "wreframed = train_utils.remove_cols(wreframed)\n",
    "\n",
    "wreframed.head()"
   ]
  },
  {
   "cell_type": "markdown",
   "metadata": {},
   "source": [
    "## Predict with Weather+Traffic Data"
   ]
  },
  {
   "cell_type": "code",
   "execution_count": null,
   "metadata": {
    "ExecuteTime": {
     "end_time": "2019-05-22T08:56:42.860823Z",
     "start_time": "2019-05-22T08:56:42.857932Z"
    },
    "scrolled": true
   },
   "outputs": [],
   "source": [
    "wmodel = '../models/190516_0000_TrafficAndWeather.h5'\n",
    "\n",
    "winv_y, winv_yhat, wrmse = train_utils.predict_data(wreframed, wmodel,wscaler1)"
   ]
  },
  {
   "cell_type": "code",
   "execution_count": null,
   "metadata": {
    "ExecuteTime": {
     "end_time": "2019-05-22T08:44:26.789845Z",
     "start_time": "2019-05-22T08:44:26.425352Z"
    }
   },
   "outputs": [],
   "source": [
    "from matplotlib.pyplot import figure\n",
    "\n",
    "figure(num=None, figsize=(20, 6), dpi=80,edgecolor='k')\n",
    "\n",
    "plt.plot(winv_y[0:600])\n",
    "plt.plot(winv_yhat[0:600])"
   ]
  },
  {
   "cell_type": "markdown",
   "metadata": {},
   "source": [
    "# Send predicted data back to OmniSci"
   ]
  },
  {
   "cell_type": "code",
   "execution_count": null,
   "metadata": {
    "ExecuteTime": {
     "end_time": "2019-05-22T08:54:52.639221Z",
     "start_time": "2019-05-22T08:54:51.814919Z"
    }
   },
   "outputs": [],
   "source": [
    "tmp_ = pd.concat([pd.DataFrame(train_utils.data_index(new_df, n_lag, n_steps)) for station, new_df in df_wpredict.groupby(level=0)], ignore_index=True)\n",
    " \n",
    "my_index = pd.DataFrame(tmp_[0].tolist(), index=tmp_.index).rename(index=str, columns={0: \"station\", 1: \"timestamp_\"})\n",
    "\n",
    "my_index.head()\n"
   ]
  },
  {
   "cell_type": "code",
   "execution_count": null,
   "metadata": {
    "ExecuteTime": {
     "end_time": "2019-05-22T08:54:55.334058Z",
     "start_time": "2019-05-22T08:54:55.282481Z"
    }
   },
   "outputs": [],
   "source": [
    "df_out = my_index\n",
    "\n",
    "df_out['actual_speed'] = tinv_y\n",
    "df_out['predicted_speed_t'] = tinv_yhat\n",
    "df_out['predicted_speed_w'] = winv_yhat\n",
    "\n",
    "\n",
    "df_out['tdifference'] = abs(tinv_y - tinv_yhat)\n",
    "df_out['wdifference'] = abs(winv_y - winv_yhat)\n",
    "cols = ['occupancy','hourlyprecipitation','hourlyvisibility','hourlywindspeed']\n",
    "# cols = ['occupancy','hourlyprecipitation']\n",
    "df_out = df_out.set_index(['station','timestamp_']).join(df_wpredict[cols]).reset_index()\n",
    "\n",
    "df_out.head()"
   ]
  },
  {
   "cell_type": "code",
   "execution_count": null,
   "metadata": {
    "ExecuteTime": {
     "end_time": "2019-05-15T22:01:29.667758Z",
     "start_time": "2019-05-15T22:01:17.862541Z"
    }
   },
   "outputs": [],
   "source": [
    "con.load_table(\"predicted_traffic_weather_190522_0000\", df_out)"
   ]
  }
 ],
 "metadata": {
  "kernelspec": {
   "display_name": "Python 3",
   "language": "python",
   "name": "python3"
  },
  "language_info": {
   "codemirror_mode": {
    "name": "ipython",
    "version": 3
   },
   "file_extension": ".py",
   "mimetype": "text/x-python",
   "name": "python",
   "nbconvert_exporter": "python",
   "pygments_lexer": "ipython3",
   "version": "3.6.5"
  },
  "varInspector": {
   "cols": {
    "lenName": 16,
    "lenType": 16,
    "lenVar": 40
   },
   "kernels_config": {
    "python": {
     "delete_cmd_postfix": "",
     "delete_cmd_prefix": "del ",
     "library": "var_list.py",
     "varRefreshCmd": "print(var_dic_list())"
    },
    "r": {
     "delete_cmd_postfix": ") ",
     "delete_cmd_prefix": "rm(",
     "library": "var_list.r",
     "varRefreshCmd": "cat(var_dic_list()) "
    }
   },
   "types_to_exclude": [
    "module",
    "function",
    "builtin_function_or_method",
    "instance",
    "_Feature"
   ],
   "window_display": false
  }
 },
 "nbformat": 4,
 "nbformat_minor": 2
}
