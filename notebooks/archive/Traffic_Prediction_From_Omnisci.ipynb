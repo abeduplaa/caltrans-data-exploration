{
 "cells": [
  {
   "cell_type": "code",
   "execution_count": 1,
   "metadata": {
    "ExecuteTime": {
     "end_time": "2019-05-07T11:19:53.463017Z",
     "start_time": "2019-05-07T11:19:53.460193Z"
    }
   },
   "outputs": [],
   "source": [
    "import sys\n",
    "sys.path.append('/home/mapdadmin/abraham/caltrans-data-exploration/')"
   ]
  },
  {
   "cell_type": "code",
   "execution_count": 2,
   "metadata": {
    "ExecuteTime": {
     "end_time": "2019-05-07T11:19:54.906764Z",
     "start_time": "2019-05-07T11:19:54.512143Z"
    }
   },
   "outputs": [],
   "source": [
    "from configparser import ConfigParser\n",
    "import pandas as pd\n",
    "\n",
    "from process_traffic_data import apply_custom_transformations"
   ]
  },
  {
   "cell_type": "code",
   "execution_count": 3,
   "metadata": {
    "ExecuteTime": {
     "end_time": "2019-05-07T11:19:54.981574Z",
     "start_time": "2019-05-07T11:19:54.979619Z"
    }
   },
   "outputs": [],
   "source": [
    "from omnisci_connector.omni_connect import OmnisciConnect\n",
    "#import ibis"
   ]
  },
  {
   "cell_type": "code",
   "execution_count": 4,
   "metadata": {
    "ExecuteTime": {
     "end_time": "2019-05-07T11:19:56.159592Z",
     "start_time": "2019-05-07T11:19:56.084065Z"
    }
   },
   "outputs": [
    {
     "name": "stdout",
     "output_type": "stream",
     "text": [
      "connect to omnisci\n"
     ]
    },
    {
     "ename": "NameError",
     "evalue": "name 'config_path' is not defined",
     "output_type": "error",
     "traceback": [
      "\u001b[0;31m---------------------------------------------------------------------------\u001b[0m",
      "\u001b[0;31mNameError\u001b[0m                                 Traceback (most recent call last)",
      "\u001b[0;32m<ipython-input-4-4c464c06e804>\u001b[0m in \u001b[0;36m<module>\u001b[0;34m\u001b[0m\n\u001b[1;32m      1\u001b[0m \u001b[0mprint\u001b[0m\u001b[0;34m(\u001b[0m\u001b[0;34m\"connect to omnisci\"\u001b[0m\u001b[0;34m)\u001b[0m\u001b[0;34m\u001b[0m\u001b[0;34m\u001b[0m\u001b[0m\n\u001b[0;32m----> 2\u001b[0;31m \u001b[0mOmnisciHandle\u001b[0m \u001b[0;34m=\u001b[0m \u001b[0mOmnisciConnect\u001b[0m\u001b[0;34m(\u001b[0m\u001b[0mconfig_path\u001b[0m\u001b[0;34m)\u001b[0m\u001b[0;34m\u001b[0m\u001b[0;34m\u001b[0m\u001b[0m\n\u001b[0m\u001b[1;32m      3\u001b[0m \u001b[0mOmnisciHandle\u001b[0m\u001b[0;34m.\u001b[0m\u001b[0mstart_connection\u001b[0m\u001b[0;34m(\u001b[0m\u001b[0;34m)\u001b[0m\u001b[0;34m\u001b[0m\u001b[0;34m\u001b[0m\u001b[0m\n",
      "\u001b[0;31mNameError\u001b[0m: name 'config_path' is not defined"
     ]
    }
   ],
   "source": [
    "print(\"connect to omnisci\")\n",
    "OmnisciHandle = OmnisciConnect(config_path)\n",
    "OmnisciHandle.start_connection()"
   ]
  },
  {
   "cell_type": "code",
   "execution_count": null,
   "metadata": {
    "ExecuteTime": {
     "end_time": "2019-05-07T07:35:48.459058Z",
     "start_time": "2019-05-07T07:35:48.446513Z"
    }
   },
   "outputs": [],
   "source": [
    "OmnisciHandle.con.get_tables()"
   ]
  },
  {
   "cell_type": "code",
   "execution_count": null,
   "metadata": {
    "ExecuteTime": {
     "end_time": "2019-05-07T07:58:02.412322Z",
     "start_time": "2019-05-07T07:58:02.389423Z"
    }
   },
   "outputs": [],
   "source": [
    "OmnisciHandle.con.get_table_details('caltrans_historical_2015_2019_5min')"
   ]
  },
  {
   "cell_type": "code",
   "execution_count": null,
   "metadata": {
    "ExecuteTime": {
     "end_time": "2019-05-07T07:58:04.249827Z",
     "start_time": "2019-05-07T07:58:04.247561Z"
    }
   },
   "outputs": [],
   "source": [
    "cols = \"timestamp_, \\\n",
    "freeway\""
   ]
  },
  {
   "cell_type": "code",
   "execution_count": null,
   "metadata": {
    "ExecuteTime": {
     "start_time": "2019-05-07T07:58:04.556Z"
    }
   },
   "outputs": [],
   "source": [
    "df = OmnisciHandle.con.select_ipc(\"select \" + cols + \" from caltrans_historical_2015_2019_5min limit 100\")"
   ]
  },
  {
   "cell_type": "code",
   "execution_count": null,
   "metadata": {
    "ExecuteTime": {
     "end_time": "2019-05-07T07:43:37.773514Z",
     "start_time": "2019-05-07T07:43:37.768474Z"
    }
   },
   "outputs": [],
   "source": [
    "df.dtypes"
   ]
  },
  {
   "cell_type": "code",
   "execution_count": 24,
   "metadata": {
    "ExecuteTime": {
     "end_time": "2019-05-07T07:42:52.735915Z",
     "start_time": "2019-05-07T07:42:52.731110Z"
    }
   },
   "outputs": [
    {
     "data": {
      "text/plain": [
       "timestamp_    datetime64[ns]\n",
       "dtype: object"
      ]
     },
     "execution_count": 24,
     "metadata": {},
     "output_type": "execute_result"
    }
   ],
   "source": [
    "df.dtypes"
   ]
  },
  {
   "cell_type": "code",
   "execution_count": null,
   "metadata": {
    "ExecuteTime": {
     "end_time": "2019-05-07T07:30:31.073326Z",
     "start_time": "2019-05-07T07:30:31.069255Z"
    }
   },
   "outputs": [],
   "source": [
    "config_path = '/home/mapdadmin/abraham/ini_files/config.ini'\n",
    "print(\"read configuration file %s\" %config_path)\n",
    "config = ConfigParser()\n",
    "config.read(config_path)\n",
    "print(\"Configuration file read.\")\n"
   ]
  },
  {
   "cell_type": "code",
   "execution_count": null,
   "metadata": {
    "ExecuteTime": {
     "end_time": "2019-05-07T07:34:39.768311Z",
     "start_time": "2019-05-07T07:34:39.764992Z"
    }
   },
   "outputs": [],
   "source": [
    "# useful columns:\n",
    "traffic_data_columns = ['timestamp_',\n",
    "                        'station',\n",
    "                        'district',\n",
    "                        'freeway',\n",
    "                        'direction',\n",
    "                        'lane_type',\n",
    "                        'station_length',\n",
    "                        'samples',\n",
    "                        'pct_observed',\n",
    "                        'total_flow',\n",
    "                        'occupancy',\n",
    "                        'speed'\n",
    "                        ]\n",
    "\n",
    "traffic_meta_columns = ['ID',\n",
    "                        'County',\n",
    "                        'State_PM',\n",
    "                        'Abs_PM',\n",
    "                        'Latitude',\n",
    "                        'Longitude',\n",
    "                        'Lanes',\n",
    "                        'Name']"
   ]
  },
  {
   "cell_type": "code",
   "execution_count": null,
   "metadata": {
    "ExecuteTime": {
     "end_time": "2019-05-07T07:34:40.943247Z",
     "start_time": "2019-05-07T07:34:40.891900Z"
    }
   },
   "outputs": [],
   "source": [
    "\n",
    "### metadata section ###\n",
    "traffic_meta_path = config.get('Paths', 'meta_path')\n",
    "\n",
    "# read in the traffic metadata to pandas:\n",
    "df_traffic_metadata = pd.read_csv(traffic_meta_path, sep='\\t', usecols=traffic_meta_columns).set_index('ID')\n",
    "df_traffic_metadata = df_traffic_metadata.rename(str.lower, axis='columns')\n",
    "print(\"traffic metadata file read.\")\n",
    "\n",
    "\n",
    "\n"
   ]
  },
  {
   "cell_type": "code",
   "execution_count": null,
   "metadata": {
    "ExecuteTime": {
     "end_time": "2019-05-07T07:34:44.043184Z",
     "start_time": "2019-05-07T07:34:44.040500Z"
    }
   },
   "outputs": [],
   "source": [
    "### Traffic Section ###\n",
    "\n",
    "# get the paths of relevant files for the data\n",
    "csv_files = config.get('Paths', 'data_path')"
   ]
  },
  {
   "cell_type": "code",
   "execution_count": null,
   "metadata": {},
   "outputs": [],
   "source": [
    "\n",
    "# send traffic metadata:\n",
    "    # get file paths:\n",
    "file_paths = utils.get_file_names(csv_files, extension=file_ext)\n",
    "print(\"Number of traffic files found: \", len(file_paths))\n",
    "\n",
    "# extract and traffic data in batches:\n",
    "no_data_cols = list(range(len(traffic_data_columns)))\n",
    "for i in range(0, len(file_paths), batch_limit):\n",
    "#for i in range(0, batch_limit, batch_limit):\n",
    "    df_batch = []\n",
    "    for f in file_paths[i:i + batch_limit]:\n",
    "        print(\"Processing file: \", f)\n",
    "        temp = pd.read_csv(f, header=None, names=traffic_data_columns, usecols=no_data_cols)\n",
    "        df_batch.append(temp)\n",
    "\n",
    "    df_extracted_traffic = pd.concat(df_batch, ignore_index=True)\n",
    "\n",
    "    df_extracted_traffic = df_extracted_traffic.drop('district', axis=1)\n",
    "\n",
    "    df_extracted_traffic = df_extracted_traffic.join(df_traffic_metadata, on='station')\n",
    "\n",
    "    try:\n",
    "        df_transformed_traffic = apply_custom_transformations(df=df_extracted_traffic,\n",
    "                                                              interest_col=interest_col,\n",
    "                                                              threshold=threshold,\n",
    "                                                              grouper=grouper)\n",
    "    except ValueError as ex:\n",
    "        print(ex)\n",
    "        print(\"Skipping Batch starting at: \", i)"
   ]
  },
  {
   "cell_type": "code",
   "execution_count": null,
   "metadata": {},
   "outputs": [],
   "source": [
    "01/01/2019\tNew Year's Day\tTuesday\n",
    "01/21/2019\tMartin Luther King, Jr. Day\tMonday\n",
    "02/18/2019\tWashington's Birthday\tMonday\n",
    "05/27/2019\tMemorial Day\tMonday\n",
    "07/04/2019\tIndependence Day\tThursday\n",
    "09/02/2019\tLabor Day\tMonday\n",
    "10/14/2019\tColumbus Day\tMonday\n",
    "11/11/2019\tVeterans Day (Observed)\tMonday\n",
    "11/28/2019\tThanksgiving Day\tThursday\n",
    "11/29/2019\tDay after Thanksgiving\tFriday\n",
    "12/25/2019\tChristmas Day\tWednesday"
   ]
  }
 ],
 "metadata": {
  "kernelspec": {
   "display_name": "Python [conda env:traffic_demo]",
   "language": "python",
   "name": "conda-env-traffic_demo-py"
  },
  "language_info": {
   "codemirror_mode": {
    "name": "ipython",
    "version": 3
   },
   "file_extension": ".py",
   "mimetype": "text/x-python",
   "name": "python",
   "nbconvert_exporter": "python",
   "pygments_lexer": "ipython3",
   "version": "3.6.7"
  },
  "varInspector": {
   "cols": {
    "lenName": 16,
    "lenType": 16,
    "lenVar": 40
   },
   "kernels_config": {
    "python": {
     "delete_cmd_postfix": "",
     "delete_cmd_prefix": "del ",
     "library": "var_list.py",
     "varRefreshCmd": "print(var_dic_list())"
    },
    "r": {
     "delete_cmd_postfix": ") ",
     "delete_cmd_prefix": "rm(",
     "library": "var_list.r",
     "varRefreshCmd": "cat(var_dic_list()) "
    }
   },
   "types_to_exclude": [
    "module",
    "function",
    "builtin_function_or_method",
    "instance",
    "_Feature"
   ],
   "window_display": false
  }
 },
 "nbformat": 4,
 "nbformat_minor": 2
}
